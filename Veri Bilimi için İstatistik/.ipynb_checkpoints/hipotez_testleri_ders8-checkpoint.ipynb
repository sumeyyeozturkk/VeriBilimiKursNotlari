{
 "cells": [
  {
   "cell_type": "markdown",
   "metadata": {},
   "source": [
    "# Hipotez Testleri Giriş"
   ]
  },
  {
   "cell_type": "markdown",
   "metadata": {},
   "source": [
    "Hipotez Testi --> Bir inanışı(bir savı, bir tahmini vs.) test etmek için kullanılan istatiksel bir tekniktir."
   ]
  },
  {
   "cell_type": "markdown",
   "metadata": {},
   "source": [
    "## Hata Tipleri"
   ]
  },
  {
   "cell_type": "markdown",
   "metadata": {},
   "source": [
    "Gerçek Durum -> H0 True\n",
    "\n",
    "Yapılan Durum --> Reddedildi.\n",
    "\n",
    "Hata Tipi -> Tip 1 Hata oluşur.\n"
   ]
  },
  {
   "cell_type": "markdown",
   "metadata": {},
   "source": [
    "Gerçek Durum --> H0 False\n",
    "\n",
    "Yapılan Durum --> Kabul edildi.\n",
    "\n",
    "Hata Tipi --> Tip 2 Hata oluşur."
   ]
  },
  {
   "cell_type": "markdown",
   "metadata": {},
   "source": [
    "Gerçek Durum --> H0 False\n",
    "\n",
    "Yapılan Durum --> Reddedildi\n",
    "\n",
    "Testin gücünü ifade eder."
   ]
  },
  {
   "cell_type": "markdown",
   "metadata": {},
   "source": [
    "Gerçek Durum --> H0 True\n",
    "\n",
    "Yapılan Durum --> True\n",
    "\n",
    "Başarıyı ifade eder."
   ]
  },
  {
   "cell_type": "markdown",
   "metadata": {},
   "source": [
    "## NOTLAR\n",
    "\n",
    "Daima bu hatalardan birini yapma ihtimali vardır. Bu ihtimallerin risk derecesini belirleyerek azaltmaya çalışırız. "
   ]
  },
  {
   "cell_type": "markdown",
   "metadata": {},
   "source": [
    "# Hipotez Testi Adımları "
   ]
  },
  {
   "cell_type": "markdown",
   "metadata": {},
   "source": [
    "Adım 1 : Hipotezlerin kurulması ve yönlerinin belirlenmesi"
   ]
  },
  {
   "cell_type": "markdown",
   "metadata": {},
   "source": [
    "Adım 2: Anlamlılık düzeyinin ve tablo değerinin belirlenmesi"
   ]
  },
  {
   "cell_type": "markdown",
   "metadata": {},
   "source": [
    "Adım 3: Test İstatistiğinin belirlenmesi ve test istatistiğinin hesaplanması"
   ]
  },
  {
   "cell_type": "markdown",
   "metadata": {},
   "source": [
    "Adım 4: Hesaplanan tablo değeri ile alfa'ya karşılık gelen tablo değerinin karşılaştırılması\n",
    "\n",
    "        Test itatistiği(ZH) > Tablo Değeri(Zt) ise H0 Red"
   ]
  },
  {
   "cell_type": "markdown",
   "metadata": {},
   "source": [
    "Adım 5: Yorum"
   ]
  }
 ],
 "metadata": {
  "kernelspec": {
   "display_name": "Python 3",
   "language": "python",
   "name": "python3"
  },
  "language_info": {
   "codemirror_mode": {
    "name": "ipython",
    "version": 3
   },
   "file_extension": ".py",
   "mimetype": "text/x-python",
   "name": "python",
   "nbconvert_exporter": "python",
   "pygments_lexer": "ipython3",
   "version": "3.7.4"
  }
 },
 "nbformat": 4,
 "nbformat_minor": 4
}
