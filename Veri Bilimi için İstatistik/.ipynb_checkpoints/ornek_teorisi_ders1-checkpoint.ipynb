{
 "cells": [
  {
   "cell_type": "markdown",
   "metadata": {},
   "source": [
    "# Örnek Teorisi"
   ]
  },
  {
   "cell_type": "markdown",
   "metadata": {},
   "source": [
    "Örneklem --> Var olan hedef kitlenin(Ana Kitle) içerisinden belirli kurallara göre belirli bir evrenden seçilmiş ve bu ana kitleyi temsil eden bir alt kümedir.\n",
    "\n",
    "Araştırmalar genellikle örneklem üzerinden yapılır ve buradan yapılan çıkarımlar ana kitlenin tamamına genellenme çabasındadır.\n",
    "\n",
    "Örnekleme --> Ana kitle içerisinden 'Örneklem' seçme işlemine denir. Farklı örnekleme teoremleri bulunur.\n",
    "Örneğin; Olasılıklı örnekleme, Olasılıklı olmayan örnekleme\n",
    "\n",
    "Örneklem Dağılımı --> Çekilen birden fazla örneklem arasındaki incelenen dağılıma denir.\n",
    "\n",
    "Merkezi Limit Teoremi --> Bağımsız ve aynı değişkenlere sahip rassal değişkenlerin toplamı ya da aritmetik ortalaması yaklaşık olarak normal dağılmaktadır ki ana kitle için normallik varsayımımız olduğundan dolayı elde ettiğimiz örnekler üzerinden eriştiğimiz değerleri ana kitle değerleri olarak yorumlayabilme.\n",
    "\n",
    "Yani Ana kitle üzerinden çektiğimiz birden çok örnekleme olduğunu düşünelim. Bu örneklemeleri birleştirerek bazı işlemler yapabilmeyi sağlayan teori merkezi limit teoremidir.\n"
   ]
  },
  {
   "cell_type": "markdown",
   "metadata": {},
   "source": [
    "# Uygulama "
   ]
  },
  {
   "cell_type": "code",
   "execution_count": null,
   "metadata": {},
   "outputs": [],
   "source": []
  }
 ],
 "metadata": {
  "kernelspec": {
   "display_name": "Python 3",
   "language": "python",
   "name": "python3"
  },
  "language_info": {
   "codemirror_mode": {
    "name": "ipython",
    "version": 3
   },
   "file_extension": ".py",
   "mimetype": "text/x-python",
   "name": "python",
   "nbconvert_exporter": "python",
   "pygments_lexer": "ipython3",
   "version": "3.7.3"
  }
 },
 "nbformat": 4,
 "nbformat_minor": 2
}
