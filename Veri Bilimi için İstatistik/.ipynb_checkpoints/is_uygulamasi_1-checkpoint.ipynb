{
 "cells": [
  {
   "cell_type": "markdown",
   "metadata": {},
   "source": [
    "# İş Uygulaması\n",
    "\n",
    "### Fiyat Stratejisi Karar Destek Sistemi "
   ]
  },
  {
   "cell_type": "markdown",
   "metadata": {},
   "source": [
    "Problem : CEO Fiyat Belirleme Konusunda bilimsel bir dayanak ve esneklik istiyor.\n",
    "\n",
    "Güven aralığını kullanarak bir fiyat stratejisi için karar destek sistemi oluşturmak için yapılan uygulama"
   ]
  },
  {
   "cell_type": "markdown",
   "metadata": {},
   "source": [
    "Detaylar:\n",
    "    \n",
    "    Satıcı, alıcı ve bir ürün var.\n",
    "    \n",
    "    Alıcılara ürüne ne kadar ücret öderdiniz diye soruluyor.\n",
    "    \n",
    "    Optimum fiyat bilimsel ve esnek olarak bulunmak isteniyor.\n",
    "    \n",
    "    Kimse birbininin ne teklif ettiğini göremiyor.\n",
    "    "
   ]
  },
  {
   "cell_type": "code",
   "execution_count": 11,
   "metadata": {},
   "outputs": [],
   "source": [
    "import numpy as np\n",
    "import statsmodels.stats.api as sms"
   ]
  },
  {
   "cell_type": "code",
   "execution_count": 12,
   "metadata": {},
   "outputs": [],
   "source": [
    "fiyatlar = np.random.randint(10,110,1000)\n",
    "# 10 TL ile 110 TL arasında 1000 adet gözlem"
   ]
  },
  {
   "cell_type": "code",
   "execution_count": 13,
   "metadata": {},
   "outputs": [
    {
     "data": {
      "text/plain": [
       "59.835"
      ]
     },
     "execution_count": 13,
     "metadata": {},
     "output_type": "execute_result"
    }
   ],
   "source": [
    "fiyatlar.mean()"
   ]
  },
  {
   "cell_type": "code",
   "execution_count": 14,
   "metadata": {},
   "outputs": [
    {
     "data": {
      "text/plain": [
       "(58.050208633678494, 61.61979136632151)"
      ]
     },
     "execution_count": 14,
     "metadata": {},
     "output_type": "execute_result"
    }
   ],
   "source": [
    "sms.DescrStatsW(fiyatlar).tconfint_mean()\n",
    "# Çıkaracak olduğumuz ürünü satın almak üzere kullanıcıların ödemeyi \n",
    "# göze aldığı ücret istatiksel olarak %95 güvenilirlikle bu aralıktadır. "
   ]
  },
  {
   "cell_type": "code",
   "execution_count": null,
   "metadata": {},
   "outputs": [],
   "source": []
  }
 ],
 "metadata": {
  "kernelspec": {
   "display_name": "Python 3",
   "language": "python",
   "name": "python3"
  },
  "language_info": {
   "codemirror_mode": {
    "name": "ipython",
    "version": 3
   },
   "file_extension": ".py",
   "mimetype": "text/x-python",
   "name": "python",
   "nbconvert_exporter": "python",
   "pygments_lexer": "ipython3",
   "version": "3.7.4"
  }
 },
 "nbformat": 4,
 "nbformat_minor": 4
}
