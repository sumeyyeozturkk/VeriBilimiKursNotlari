{
 "cells": [
  {
   "cell_type": "markdown",
   "metadata": {},
   "source": [
    "# Örnek Teorisi"
   ]
  },
  {
   "cell_type": "markdown",
   "metadata": {},
   "source": [
    "Örneklem --> Var olan hedef kitlenin(Ana Kitle) içerisinden belirli kurallara göre belirli bir evrenden seçilmiş ve bu ana kitleyi temsil eden bir alt kümedir.\n",
    "\n",
    "Araştırmalar genellikle örneklem üzerinden yapılır ve buradan yapılan çıkarımlar ana kitlenin tamamına genellenme çabasındadır.\n",
    "\n",
    "Örnekleme --> Ana kitle içerisinden 'Örneklem' seçme işlemine denir. Farklı örnekleme teoremleri bulunur.\n",
    "Örneğin; Olasılıklı örnekleme, Olasılıklı olmayan örnekleme\n",
    "\n",
    "Örneklem Dağılımı --> Çekilen birden fazla örneklem arasındaki incelenen dağılıma denir.\n",
    "\n",
    "Merkezi Limit Teoremi --> Bağımsız ve aynı değişkenlere sahip rassal değişkenlerin toplamı ya da aritmetik ortalaması yaklaşık olarak normal dağılmaktadır ki ana kitle için normallik varsayımımız olduğundan dolayı elde ettiğimiz örnekler üzerinden eriştiğimiz değerleri ana kitle değerleri olarak yorumlayabilme.\n",
    "\n",
    "Yani Ana kitle üzerinden çektiğimiz birden çok örnekleme olduğunu düşünelim. Bu örneklemeleri birleştirerek bazı işlemler yapabilmeyi sağlayan teori merkezi limit teoremidir.\n"
   ]
  },
  {
   "cell_type": "markdown",
   "metadata": {},
   "source": [
    "# Uygulama "
   ]
  },
  {
   "cell_type": "markdown",
   "metadata": {},
   "source": [
    "## Örneklem"
   ]
  },
  {
   "cell_type": "code",
   "execution_count": 2,
   "metadata": {},
   "outputs": [],
   "source": [
    "import numpy as np"
   ]
  },
  {
   "cell_type": "code",
   "execution_count": 3,
   "metadata": {},
   "outputs": [],
   "source": [
    "anakitle = np.random.randint(0,80,10000) # 0 ile 80 yaş arası 10000 gözlem"
   ]
  },
  {
   "cell_type": "code",
   "execution_count": 4,
   "metadata": {},
   "outputs": [
    {
     "data": {
      "text/plain": [
       "array([31, 12, 21, 75, 16, 20, 55, 20, 58])"
      ]
     },
     "execution_count": 4,
     "metadata": {},
     "output_type": "execute_result"
    }
   ],
   "source": [
    "anakitle[1:10]"
   ]
  },
  {
   "cell_type": "code",
   "execution_count": 5,
   "metadata": {},
   "outputs": [],
   "source": [
    "#Bu değerlerin bir ilçeye ait yaş gözlemleri olduğunu düşünelim ve yaş ortalamasını bulalım."
   ]
  },
  {
   "cell_type": "code",
   "execution_count": 7,
   "metadata": {},
   "outputs": [
    {
     "data": {
      "text/plain": [
       "array([ 5, 24, 14,  0,  9, 72, 58, 73, 28])"
      ]
     },
     "execution_count": 7,
     "metadata": {},
     "output_type": "execute_result"
    }
   ],
   "source": [
    "np.random.seed(10) # Her çektiğimiz örneklem farklı sonuçlar vermesin diye\n",
    "orneklem = np.random.choice(a = anakitle, size = 100) # Ana kitle içerisinden 100 tane örnek çekme\n",
    "orneklem[1:10]"
   ]
  },
  {
   "cell_type": "code",
   "execution_count": 8,
   "metadata": {},
   "outputs": [
    {
     "data": {
      "text/plain": [
       "39.57"
      ]
     },
     "execution_count": 8,
     "metadata": {},
     "output_type": "execute_result"
    }
   ],
   "source": [
    "orneklem.mean()"
   ]
  },
  {
   "cell_type": "code",
   "execution_count": 9,
   "metadata": {},
   "outputs": [
    {
     "data": {
      "text/plain": [
       "39.5287"
      ]
     },
     "execution_count": 9,
     "metadata": {},
     "output_type": "execute_result"
    }
   ],
   "source": [
    "anakitle.mean()"
   ]
  },
  {
   "cell_type": "markdown",
   "metadata": {},
   "source": [
    "## Örneklem Dağılımı"
   ]
  },
  {
   "cell_type": "code",
   "execution_count": 10,
   "metadata": {},
   "outputs": [],
   "source": [
    "#Ana kitle içerisinden birbirinden farklı 100 tane gözlemden oluşan 10 adet örneklem çekme\n",
    "# Oluşan her bir örneklem ana kitlenin bir temsilcisidir.\n",
    "orneklem1 = np.random.choice(a = anakitle, size = 100)\n",
    "orneklem2 = np.random.choice(a = anakitle, size = 100)\n",
    "orneklem3 = np.random.choice(a = anakitle, size = 100)\n",
    "orneklem4 = np.random.choice(a = anakitle, size = 100)\n",
    "orneklem5 = np.random.choice(a = anakitle, size = 100)\n",
    "orneklem6 = np.random.choice(a = anakitle, size = 100)\n",
    "orneklem7 = np.random.choice(a = anakitle, size = 100)\n",
    "orneklem8 = np.random.choice(a = anakitle, size = 100)\n",
    "orneklem9 = np.random.choice(a = anakitle, size = 100)\n",
    "orneklem10 = np.random.choice(a = anakitle, size = 100)"
   ]
  },
  {
   "cell_type": "markdown",
   "metadata": {},
   "source": [
    "Örneklemelerin ortalamalarının ortalamasını aldığımda daha güvenli bir işlem gerçekleştirmiş oluyorum. "
   ]
  },
  {
   "cell_type": "code",
   "execution_count": 13,
   "metadata": {},
   "outputs": [
    {
     "data": {
      "text/plain": [
       "39.126"
      ]
     },
     "execution_count": 13,
     "metadata": {},
     "output_type": "execute_result"
    }
   ],
   "source": [
    "(orneklem1.mean() + orneklem2.mean() + orneklem3.mean() + orneklem4.mean() + orneklem5.mean() \n",
    "+ orneklem6.mean() + orneklem7.mean() + orneklem8.mean() + orneklem9.mean() + orneklem10.mean() )  / 10"
   ]
  },
  {
   "cell_type": "markdown",
   "metadata": {},
   "source": [
    "Bu örneklemelerin ortalamalarının ortalamasını alabilmemi sağlayan işlem de merkezi limit teoremidir."
   ]
  },
  {
   "cell_type": "code",
   "execution_count": 14,
   "metadata": {},
   "outputs": [
    {
     "data": {
      "text/plain": [
       "39.5287"
      ]
     },
     "execution_count": 14,
     "metadata": {},
     "output_type": "execute_result"
    }
   ],
   "source": [
    "anakitle.mean()"
   ]
  }
 ],
 "metadata": {
  "kernelspec": {
   "display_name": "Python 3",
   "language": "python",
   "name": "python3"
  },
  "language_info": {
   "codemirror_mode": {
    "name": "ipython",
    "version": 3
   },
   "file_extension": ".py",
   "mimetype": "text/x-python",
   "name": "python",
   "nbconvert_exporter": "python",
   "pygments_lexer": "ipython3",
   "version": "3.7.3"
  }
 },
 "nbformat": 4,
 "nbformat_minor": 2
}
