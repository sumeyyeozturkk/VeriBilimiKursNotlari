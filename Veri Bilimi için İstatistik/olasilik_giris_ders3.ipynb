{
 "cells": [
  {
   "cell_type": "markdown",
   "metadata": {},
   "source": [
    "# Olasılık, Olasılık Dağılımları , Rassal Değişkenler"
   ]
  },
  {
   "cell_type": "markdown",
   "metadata": {},
   "source": [
    "Olasılık --> Olayların olabilirliğinin sayısal ifadesidir."
   ]
  },
  {
   "cell_type": "markdown",
   "metadata": {},
   "source": [
    "Rassallık --> Belirsiz, bireysel ama bir çok tekrar sonrasında belirli bir düzeni olan fenomenlere rassal denir."
   ]
  },
  {
   "cell_type": "markdown",
   "metadata": {},
   "source": [
    "Rassal Değişkenler --> Değerlerini bir deney sonuçlarından alan değişkenlere denir."
   ]
  },
  {
   "cell_type": "markdown",
   "metadata": {},
   "source": [
    "Dağılım --> Olayların(yağmur yağması, oy kullanmak gibi) ya da durumların  sayısal karşılıkların ortaya çıkardığı yapıya dağılım denir."
   ]
  },
  {
   "cell_type": "markdown",
   "metadata": {},
   "source": [
    "Olasılık Dağılımları --> Bir rassal olaya ait değerler ve bu değerlerin olasılıklarının ifade edilmesine denir."
   ]
  },
  {
   "cell_type": "markdown",
   "metadata": {},
   "source": [
    "Olasılık Fonksiyonu --> Bir değişkenin herhangi bir değeri alması olasılığını hesaplamaya yarayan fonksiyondur."
   ]
  },
  {
   "cell_type": "markdown",
   "metadata": {},
   "source": [
    "# Kesikli ve Sürekli Olasılık Dağılımları"
   ]
  },
  {
   "cell_type": "markdown",
   "metadata": {},
   "source": [
    "Kesikli Olasılık Dağılımları --> Bernoulli, Binom, Poisson\n",
    "\n",
    "Sürekli Olasılık Dağılımları --> Normal Dağılım, Üniform Dağılım, Üstel Dağılım  "
   ]
  }
 ],
 "metadata": {
  "kernelspec": {
   "display_name": "Python 3",
   "language": "python",
   "name": "python3"
  },
  "language_info": {
   "codemirror_mode": {
    "name": "ipython",
    "version": 3
   },
   "file_extension": ".py",
   "mimetype": "text/x-python",
   "name": "python",
   "nbconvert_exporter": "python",
   "pygments_lexer": "ipython3",
   "version": "3.7.3"
  }
 },
 "nbformat": 4,
 "nbformat_minor": 2
}
